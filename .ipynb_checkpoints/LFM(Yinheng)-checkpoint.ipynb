{
 "cells": [
  {
   "cell_type": "code",
   "execution_count": 17,
   "metadata": {
    "ExecuteTime": {
     "end_time": "2018-12-18T06:01:00.418549Z",
     "start_time": "2018-12-18T06:01:00.413567Z"
    }
   },
   "outputs": [],
   "source": [
    "from lightfm import LightFM\n",
    "from lightfm.datasets import fetch_movielens\n",
    "from lightfm.evaluation import precision_at_k\n",
    "import numpy as np\n",
    "import pandas as pd\n",
    "from scipy.sparse import coo_matrix\n",
    "from sklearn.model_selection import train_test_split\n",
    "from lightfm.data import Dataset"
   ]
  },
  {
   "cell_type": "code",
   "execution_count": 18,
   "metadata": {
    "ExecuteTime": {
     "end_time": "2018-12-18T06:01:01.432691Z",
     "start_time": "2018-12-18T06:01:01.012780Z"
    }
   },
   "outputs": [],
   "source": [
    "ui_data=pd.read_csv('users_items_30percent.csv')"
   ]
  },
  {
   "cell_type": "code",
   "execution_count": 19,
   "metadata": {
    "ExecuteTime": {
     "end_time": "2018-12-18T06:01:01.548347Z",
     "start_time": "2018-12-18T06:01:01.538378Z"
    }
   },
   "outputs": [],
   "source": [
    "ui_data['Y']=0"
   ]
  },
  {
   "cell_type": "code",
   "execution_count": 20,
   "metadata": {
    "ExecuteTime": {
     "end_time": "2018-12-18T06:01:02.062053Z",
     "start_time": "2018-12-18T06:01:02.054105Z"
    }
   },
   "outputs": [
    {
     "data": {
      "text/html": [
       "<div>\n",
       "<style scoped>\n",
       "    .dataframe tbody tr th:only-of-type {\n",
       "        vertical-align: middle;\n",
       "    }\n",
       "\n",
       "    .dataframe tbody tr th {\n",
       "        vertical-align: top;\n",
       "    }\n",
       "\n",
       "    .dataframe thead th {\n",
       "        text-align: right;\n",
       "    }\n",
       "</style>\n",
       "<table border=\"1\" class=\"dataframe\">\n",
       "  <thead>\n",
       "    <tr style=\"text-align: right;\">\n",
       "      <th></th>\n",
       "      <th>user_id</th>\n",
       "      <th>item_index</th>\n",
       "      <th>playtime_forever</th>\n",
       "      <th>Y</th>\n",
       "    </tr>\n",
       "  </thead>\n",
       "  <tbody>\n",
       "    <tr>\n",
       "      <th>1015612</th>\n",
       "      <td>70911</td>\n",
       "      <td>608</td>\n",
       "      <td>11.28</td>\n",
       "      <td>0</td>\n",
       "    </tr>\n",
       "    <tr>\n",
       "      <th>1015613</th>\n",
       "      <td>70911</td>\n",
       "      <td>993</td>\n",
       "      <td>0.72</td>\n",
       "      <td>0</td>\n",
       "    </tr>\n",
       "    <tr>\n",
       "      <th>1015614</th>\n",
       "      <td>70911</td>\n",
       "      <td>3832</td>\n",
       "      <td>0.05</td>\n",
       "      <td>0</td>\n",
       "    </tr>\n",
       "    <tr>\n",
       "      <th>1015615</th>\n",
       "      <td>70911</td>\n",
       "      <td>2138</td>\n",
       "      <td>0.07</td>\n",
       "      <td>0</td>\n",
       "    </tr>\n",
       "    <tr>\n",
       "      <th>1015616</th>\n",
       "      <td>70911</td>\n",
       "      <td>3686</td>\n",
       "      <td>0.05</td>\n",
       "      <td>0</td>\n",
       "    </tr>\n",
       "  </tbody>\n",
       "</table>\n",
       "</div>"
      ],
      "text/plain": [
       "         user_id  item_index  playtime_forever  Y\n",
       "1015612    70911         608             11.28  0\n",
       "1015613    70911         993              0.72  0\n",
       "1015614    70911        3832              0.05  0\n",
       "1015615    70911        2138              0.07  0\n",
       "1015616    70911        3686              0.05  0"
      ]
     },
     "execution_count": 20,
     "metadata": {},
     "output_type": "execute_result"
    }
   ],
   "source": [
    "ui_data.tail()"
   ]
  },
  {
   "cell_type": "code",
   "execution_count": 21,
   "metadata": {
    "ExecuteTime": {
     "end_time": "2018-12-18T06:01:03.807312Z",
     "start_time": "2018-12-18T06:01:02.610336Z"
    }
   },
   "outputs": [],
   "source": [
    "ui_data['item_index']=ui_data['item_index'].astype(str)\n",
    "# ID has to be in string\n",
    "ui_data['user_id']=ui_data['user_id'].astype(str)"
   ]
  },
  {
   "cell_type": "code",
   "execution_count": 22,
   "metadata": {
    "ExecuteTime": {
     "end_time": "2018-12-18T06:01:04.651929Z",
     "start_time": "2018-12-18T06:01:03.943768Z"
    }
   },
   "outputs": [],
   "source": [
    "X_train, X_test, y_train, y_test = train_test_split(ui_data[['user_id','item_index','playtime_forever']], ui_data['Y'], test_size=0.33, random_state=42)\n",
    "# Add a fake Y column, os that I can use sklearn to do train test split, All I need is X_train and X_test for our recommendation"
   ]
  },
  {
   "cell_type": "code",
   "execution_count": 23,
   "metadata": {
    "ExecuteTime": {
     "end_time": "2018-12-18T06:01:06.669496Z",
     "start_time": "2018-12-18T06:01:04.745645Z"
    }
   },
   "outputs": [],
   "source": [
    "ui_train=X_train.sort_values('user_id')\n",
    "ui_test=X_test.sort_values('user_id')\n",
    "# Sort it"
   ]
  },
  {
   "cell_type": "code",
   "execution_count": 24,
   "metadata": {
    "ExecuteTime": {
     "end_time": "2018-12-18T06:01:11.643370Z",
     "start_time": "2018-12-18T06:01:06.845210Z"
    }
   },
   "outputs": [
    {
     "data": {
      "text/plain": [
       "(<68107x8660 sparse matrix of type '<class 'numpy.int32'>'\n",
       " \twith 1015617 stored elements in COOrdinate format>,\n",
       " <68107x8660 sparse matrix of type '<class 'numpy.float32'>'\n",
       " \twith 1015617 stored elements in COOrdinate format>)"
      ]
     },
     "execution_count": 24,
     "metadata": {},
     "output_type": "execute_result"
    }
   ],
   "source": [
    "# Initialize a dataset in lfm, add users and item to dataset, add weights to our dataset\n",
    "ui_ds=Dataset()\n",
    "ui_ds.fit(users=ui_data['user_id'].values,items= ui_data['item_index'].values)\n",
    "ui_ds.build_interactions(ui_data[['user_id','item_index','playtime_forever']].values)"
   ]
  },
  {
   "cell_type": "code",
   "execution_count": 25,
   "metadata": {
    "ExecuteTime": {
     "end_time": "2018-12-18T06:01:14.211673Z",
     "start_time": "2018-12-18T06:01:11.817907Z"
    }
   },
   "outputs": [],
   "source": [
    "traininteractions,trainweights=ui_ds.build_interactions(ui_train[['user_id','item_index']].values)\n",
    "# traininteraction is a sparse user-item matrix for selected training user-item pair"
   ]
  },
  {
   "cell_type": "code",
   "execution_count": 26,
   "metadata": {
    "ExecuteTime": {
     "end_time": "2018-12-18T06:01:22.108927Z",
     "start_time": "2018-12-18T06:01:15.095692Z"
    }
   },
   "outputs": [
    {
     "data": {
      "text/plain": [
       "<lightfm.lightfm.LightFM at 0x2a15429cdd8>"
      ]
     },
     "execution_count": 26,
     "metadata": {},
     "output_type": "execute_result"
    }
   ],
   "source": [
    "model = LightFM(loss='warp')\n",
    "model.fit(traininteractions, epochs=3, num_threads=4)\n",
    "# Fit our model, num_threads depends on your cpu"
   ]
  },
  {
   "cell_type": "code",
   "execution_count": 27,
   "metadata": {
    "ExecuteTime": {
     "end_time": "2018-12-18T06:01:23.427169Z",
     "start_time": "2018-12-18T06:01:22.238431Z"
    }
   },
   "outputs": [],
   "source": [
    "testinteractions,testweights=ui_ds.build_interactions(ui_test[['user_id','item_index']].values)\n",
    "# testinteraction is a sparse user-item matrix for remaining training user-item pair"
   ]
  },
  {
   "cell_type": "code",
   "execution_count": 28,
   "metadata": {
    "ExecuteTime": {
     "end_time": "2018-12-18T06:01:59.259939Z",
     "start_time": "2018-12-18T06:01:23.539637Z"
    }
   },
   "outputs": [],
   "source": [
    "test_precision = precision_at_k(model,testinteractions, k=5).mean()\n",
    "# Produce one of the accuracy "
   ]
  },
  {
   "cell_type": "code",
   "execution_count": null,
   "metadata": {},
   "outputs": [],
   "source": []
  },
  {
   "cell_type": "code",
   "execution_count": null,
   "metadata": {},
   "outputs": [],
   "source": []
  },
  {
   "cell_type": "code",
   "execution_count": null,
   "metadata": {},
   "outputs": [],
   "source": []
  }
 ],
 "metadata": {
  "hide_input": false,
  "kernelspec": {
   "display_name": "Python 3",
   "language": "python",
   "name": "python3"
  },
  "language_info": {
   "codemirror_mode": {
    "name": "ipython",
    "version": 3
   },
   "file_extension": ".py",
   "mimetype": "text/x-python",
   "name": "python",
   "nbconvert_exporter": "python",
   "pygments_lexer": "ipython3",
   "version": "3.6.4"
  },
  "latex_envs": {
   "LaTeX_envs_menu_present": true,
   "autoclose": false,
   "autocomplete": true,
   "bibliofile": "biblio.bib",
   "cite_by": "apalike",
   "current_citInitial": 1,
   "eqLabelWithNumbers": true,
   "eqNumInitial": 1,
   "hotkeys": {
    "equation": "Ctrl-E",
    "itemize": "Ctrl-I"
   },
   "labels_anchors": false,
   "latex_user_defs": false,
   "report_style_numbering": false,
   "user_envs_cfg": false
  },
  "nbTranslate": {
   "displayLangs": [
    "*"
   ],
   "hotkey": "alt-t",
   "langInMainMenu": true,
   "sourceLang": "en",
   "targetLang": "fr",
   "useGoogleTranslate": true
  },
  "toc": {
   "base_numbering": 1,
   "nav_menu": {},
   "number_sections": true,
   "sideBar": true,
   "skip_h1_title": false,
   "title_cell": "Table of Contents",
   "title_sidebar": "Contents",
   "toc_cell": false,
   "toc_position": {},
   "toc_section_display": true,
   "toc_window_display": false
  },
  "varInspector": {
   "cols": {
    "lenName": 16,
    "lenType": 16,
    "lenVar": 40
   },
   "kernels_config": {
    "python": {
     "delete_cmd_postfix": "",
     "delete_cmd_prefix": "del ",
     "library": "var_list.py",
     "varRefreshCmd": "print(var_dic_list())"
    },
    "r": {
     "delete_cmd_postfix": ") ",
     "delete_cmd_prefix": "rm(",
     "library": "var_list.r",
     "varRefreshCmd": "cat(var_dic_list()) "
    }
   },
   "types_to_exclude": [
    "module",
    "function",
    "builtin_function_or_method",
    "instance",
    "_Feature"
   ],
   "window_display": false
  }
 },
 "nbformat": 4,
 "nbformat_minor": 2
}
