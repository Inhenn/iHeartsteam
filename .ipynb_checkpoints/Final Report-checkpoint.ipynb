{
 "cells": [
  {
   "cell_type": "markdown",
   "metadata": {},
   "source": [
    "# IEOR 4571 Final Project\n",
    "#### Group Member: Yinheng Li ( yl4039 ), Lehui Liu ( ll3238 )\n",
    "#### Dec,21st"
   ]
  },
  {
   "cell_type": "code",
   "execution_count": 1,
   "metadata": {
    "ExecuteTime": {
     "end_time": "2018-12-22T03:03:17.142875Z",
     "start_time": "2018-12-22T03:03:09.831951Z"
    }
   },
   "outputs": [
    {
     "name": "stderr",
     "output_type": "stream",
     "text": [
      "C:\\Software\\PythonAnaconda\\envs\\py36\\lib\\site-packages\\lightfm\\_lightfm_fast.py:9: UserWarning: LightFM was compiled without OpenMP support. Only a single thread will be used.\n",
      "  warnings.warn('LightFM was compiled without OpenMP support. '\n"
     ]
    }
   ],
   "source": [
    "from lightfm import LightFM\n",
    "from lightfm.datasets import fetch_movielens\n",
    "from lightfm.evaluation import precision_at_k,auc_score,recall_at_k\n",
    "import numpy as np\n",
    "import pandas as pd\n",
    "import matplotlib.pyplot as plt\n",
    "\n",
    "from scipy.sparse import coo_matrix,csr_matrix\n",
    "from sklearn.model_selection import train_test_split\n",
    "from lightfm.data import Dataset"
   ]
  },
  {
   "cell_type": "markdown",
   "metadata": {},
   "source": [
    "\n",
    "##  Introduction\n",
    "Steam is a popular gaming platform developed by Valve Corporation for purchasing and playing video games. In this project, we are trying to build a recommendation system for Steam based on a dataset containing users’ shopping and gaming history. The goal of this recommendation system is to help Steam platform better place advertisements for target users. In the meantime, it can also help Steam users discover new video games to their taste. Furthermore, we hope our model can provide some insights of user preference and clustering in their choices of games."
   ]
  },
  {
   "cell_type": "markdown",
   "metadata": {},
   "source": [
    "## Objective"
   ]
  },
  {
   "cell_type": "markdown",
   "metadata": {},
   "source": [
    "Our objective in this project is to implement Factorization Machine and ANN with Local sensitive Hashing and compare these models."
   ]
  },
  {
   "cell_type": "markdown",
   "metadata": {},
   "source": [
    "## Dataset \n",
    "In this project, we are working on three steam datasets. One is the user_item dataset, which contains all the purchases and playing history for each user. The second dataset is the item_bundle dataset, which provides us the price,genre and discount for each game. The third dataset is user_review dataset, which provides us the review that the user left for each item. user_item dataset has the most coverage among all users and items, which the other two datasets only covers a small proportion of users and items."
   ]
  },
  {
   "cell_type": "markdown",
   "metadata": {},
   "source": [
    "This is a a brief view for our processed main dataset. Playtime_forever means how long in total this user has played this game, Playtime_2weeks means how long this user has played this game in the past two weeks. According to our experience, the longer the user has played the game, the more likely that user love this game. Therefore, we treat the variable Playtime_forever as the rating from the user to the item. Since the variable Playtime_forever varies a lot, we take the logarithm of this variable to lower its variance. "
   ]
  },
  {
   "cell_type": "code",
   "execution_count": 3,
   "metadata": {
    "ExecuteTime": {
     "end_time": "2018-12-22T03:03:26.566110Z",
     "start_time": "2018-12-22T03:03:24.449775Z"
    },
    "scrolled": true
   },
   "outputs": [
    {
     "data": {
      "text/html": [
       "<div>\n",
       "<style scoped>\n",
       "    .dataframe tbody tr th:only-of-type {\n",
       "        vertical-align: middle;\n",
       "    }\n",
       "\n",
       "    .dataframe tbody tr th {\n",
       "        vertical-align: top;\n",
       "    }\n",
       "\n",
       "    .dataframe thead th {\n",
       "        text-align: right;\n",
       "    }\n",
       "</style>\n",
       "<table border=\"1\" class=\"dataframe\">\n",
       "  <thead>\n",
       "    <tr style=\"text-align: right;\">\n",
       "      <th></th>\n",
       "      <th>user_id</th>\n",
       "      <th>item_index</th>\n",
       "      <th>playtime_forever</th>\n",
       "      <th>playtime_2weeks</th>\n",
       "    </tr>\n",
       "  </thead>\n",
       "  <tbody>\n",
       "    <tr>\n",
       "      <th>0</th>\n",
       "      <td>0</td>\n",
       "      <td>1</td>\n",
       "      <td>73.85</td>\n",
       "      <td>0.0</td>\n",
       "    </tr>\n",
       "    <tr>\n",
       "      <th>1</th>\n",
       "      <td>0</td>\n",
       "      <td>2</td>\n",
       "      <td>3.23</td>\n",
       "      <td>0.0</td>\n",
       "    </tr>\n",
       "    <tr>\n",
       "      <th>2</th>\n",
       "      <td>0</td>\n",
       "      <td>3</td>\n",
       "      <td>83.35</td>\n",
       "      <td>0.0</td>\n",
       "    </tr>\n",
       "    <tr>\n",
       "      <th>3</th>\n",
       "      <td>0</td>\n",
       "      <td>5</td>\n",
       "      <td>2.10</td>\n",
       "      <td>0.0</td>\n",
       "    </tr>\n",
       "    <tr>\n",
       "      <th>4</th>\n",
       "      <td>0</td>\n",
       "      <td>6</td>\n",
       "      <td>17.68</td>\n",
       "      <td>0.0</td>\n",
       "    </tr>\n",
       "  </tbody>\n",
       "</table>\n",
       "</div>"
      ],
      "text/plain": [
       "   user_id  item_index  playtime_forever  playtime_2weeks\n",
       "0        0           1             73.85              0.0\n",
       "1        0           2              3.23              0.0\n",
       "2        0           3             83.35              0.0\n",
       "3        0           5              2.10              0.0\n",
       "4        0           6             17.68              0.0"
      ]
     },
     "execution_count": 3,
     "metadata": {},
     "output_type": "execute_result"
    }
   ],
   "source": [
    "ui_data=pd.read_csv('users_items_full.csv')\n",
    "ui_data.playtime_2weeks=np.log(ui_data.playtime_2weeks+1)\n",
    "ui_data.head()"
   ]
  },
  {
   "cell_type": "markdown",
   "metadata": {},
   "source": [
    "This is the size of our dataset."
   ]
  },
  {
   "cell_type": "code",
   "execution_count": 4,
   "metadata": {
    "ExecuteTime": {
     "end_time": "2018-12-22T03:03:26.606006Z",
     "start_time": "2018-12-22T03:03:26.598028Z"
    }
   },
   "outputs": [
    {
     "name": "stdout",
     "output_type": "stream",
     "text": [
      "<class 'pandas.core.frame.DataFrame'>\n",
      "RangeIndex: 3285246 entries, 0 to 3285245\n",
      "Data columns (total 4 columns):\n",
      "user_id             int64\n",
      "item_index          int64\n",
      "playtime_forever    float64\n",
      "playtime_2weeks     float64\n",
      "dtypes: float64(2), int64(2)\n",
      "memory usage: 100.3 MB\n"
     ]
    }
   ],
   "source": [
    "ui_data.info()"
   ]
  },
  {
   "cell_type": "markdown",
   "metadata": {},
   "source": [
    "## Recommendation Systems"
   ]
  },
  {
   "cell_type": "markdown",
   "metadata": {},
   "source": [
    "### Factorization Machine Approach\n",
    "\n",
    "For this project, we think factorization machine is a feasible approach to produce recommendations, because not only it can process the user_item matrix efficiently, but also it can make use of all the side information in our additional datasets. In this project, we use LightFM as https://github.com/lyst/lightfm our FM package."
   ]
  },
  {
   "cell_type": "markdown",
   "metadata": {},
   "source": [
    "#### Without Side-info\n",
    "We start with a FM model without any side information. This is our baseline method.  "
   ]
  },
  {
   "cell_type": "code",
   "execution_count": 5,
   "metadata": {
    "ExecuteTime": {
     "end_time": "2018-12-22T03:03:29.331809Z",
     "start_time": "2018-12-22T03:03:29.218080Z"
    }
   },
   "outputs": [],
   "source": [
    "#Set up the model\n",
    "mtx_row=ui_data['user_id'].values\n",
    "mtx_column=ui_data['item_index'].values\n",
    "mtx_value=ui_data['playtime_forever'].values\n",
    "row_num=ui_data['user_id'].max()\n",
    "col_num=ui_data['item_index'].max()\n",
    "ui_data['Y']=0\n"
   ]
  },
  {
   "cell_type": "code",
   "execution_count": 8,
   "metadata": {
    "ExecuteTime": {
     "end_time": "2018-12-22T03:03:46.352512Z",
     "start_time": "2018-12-22T03:03:46.340543Z"
    }
   },
   "outputs": [],
   "source": [
    "def fm_model(t_size,random_s,threads,side_info,learning_r=0.05):\n",
    "  \n",
    "    X_train, X_test, y_train, y_test = train_test_split(ui_data[['user_id','item_index','playtime_forever']], ui_data['Y'], test_size=t_size, random_state=random_s)\n",
    "    ui_train=X_train.sort_values('user_id')\n",
    "    ui_test=X_test.sort_values('user_id')\n",
    "    train_mtx_r=ui_train['user_id'].values\n",
    "    train_mtx_c=ui_train['item_index'].values\n",
    "    train_mtx_v=ui_train['playtime_forever'].values\n",
    "    train_r=ui_train['user_id'].max()\n",
    "    train_c=ui_train['item_index'].max()\n",
    "    test_mtx_r=ui_test['user_id'].values\n",
    "    test_mtx_c=ui_test['item_index'].values\n",
    "    test_mtx_v=ui_test['playtime_forever'].values\n",
    "    test_r=ui_test['user_id'].max()\n",
    "    test_c=ui_test['item_index'].max()\n",
    "    test_w_mtx=coo_matrix((test_mtx_v,(test_mtx_r,test_mtx_c)),shape=(row_num+1, col_num+1))\n",
    "    full_w_mtx = coo_matrix((mtx_value, (mtx_row, mtx_column)), shape=(row_num+1, col_num+1))\n",
    "    train_w_mtx = coo_matrix((train_mtx_v, (train_mtx_r, train_mtx_c)), shape=(row_num+1, col_num+1))\n",
    "    test_i_mtx=coo_matrix((np.ones(len(test_mtx_v)),(test_mtx_r,test_mtx_c)),shape=(row_num+1, col_num+1))\n",
    "    full_i_mtx = coo_matrix((np.ones(len(mtx_value)), (mtx_row, mtx_column)), shape=(row_num+1, col_num+1))\n",
    "    train_i_mtx = coo_matrix((np.ones(len(train_mtx_v)), (train_mtx_r, train_mtx_c)), shape=(row_num+1, col_num+1))\n",
    "    if side_info=='no':\n",
    "        model = LightFM(loss='warp',learning_rate=learning_r)\n",
    "        model.fit(interactions=train_i_mtx,sample_weight=train_w_mtx, epochs=1, num_threads=threads)\n",
    "        auc=auc_score(model,test_w_mtx,train_interactions=train_w_mtx, num_threads=4,check_intersections=False).mean()\n",
    "        \n",
    "        pre_k=precision_at_k(model,test_w_mtx,train_interactions=train_w_mtx, num_threads=4,check_intersections=False,k=10).mean()\n",
    "        rec_k=recall_at_k(model,test_w_mtx,train_interactions=train_w_mtx, num_threads=4,check_intersections=False,k=10).mean()\n",
    "    else:\n",
    "        item_feature_mtx=csr_matrix(item_feature_full_df[side_info].values)\n",
    "        model = LightFM(loss='warp',learning_rate=learning_r)\n",
    "        model.fit(interactions=train_i_mtx,sample_weight=train_w_mtx, epochs=1, num_threads=threads,item_features=item_feature_mtx)\n",
    "        auc=auc_score(model,test_w_mtx,train_interactions=train_w_mtx, num_threads=4,check_intersections=False,item_features=item_feature_mtx).mean()\n",
    "        pre_k=precision_at_k(model,test_w_mtx,train_interactions=train_w_mtx, num_threads=4,check_intersections=False,k=10,item_features=item_feature_mtx).mean()\n",
    "        rec_k=recall_at_k(model,test_w_mtx,train_interactions=train_w_mtx, num_threads=4,check_intersections=False,k=10,item_features=item_feature_mtx).mean()\n",
    "    return auc,pre_k,rec_k"
   ]
  },
  {
   "cell_type": "markdown",
   "metadata": {},
   "source": [
    "We start with a small training sample: 10% and increase to 30%, 60%, 90%, and we record 3 accuracy measures: AUC, precision at k=10, recall at k=10."
   ]
  },
  {
   "cell_type": "code",
   "execution_count": null,
   "metadata": {
    "ExecuteTime": {
     "start_time": "2018-12-22T02:46:52.469Z"
    }
   },
   "outputs": [],
   "source": [
    "train_size=[0.1,0.3,0.6,0.9]\n",
    "auc_ls=[]\n",
    "pre_ls=[]\n",
    "rec_ls=[]\n",
    "for size in test_size:\n",
    "    auc,pre_k,rec_k=fm_model(1-size,10,4,'no')\n",
    "    auc_ls+=[auc]\n",
    "    pre_ls+=[pre_k]\n",
    "    rec_ls+=[rec_k]\n"
   ]
  },
  {
   "cell_type": "code",
   "execution_count": 13,
   "metadata": {
    "ExecuteTime": {
     "end_time": "2018-12-21T23:16:10.179459Z",
     "start_time": "2018-12-21T23:16:10.015861Z"
    }
   },
   "outputs": [
    {
     "data": {
      "image/png": "[encoded data removed]",
      "text/plain": [
       "<Figure size 720x360 with 1 Axes>"
      ]
     },
     "metadata": {},
     "output_type": "display_data"
    },
    {
     "data": {
      "text/html": [
       "<div>\n",
       "<style scoped>\n",
       "    .dataframe tbody tr th:only-of-type {\n",
       "        vertical-align: middle;\n",
       "    }\n",
       "\n",
       "    .dataframe tbody tr th {\n",
       "        vertical-align: top;\n",
       "    }\n",
       "\n",
       "    .dataframe thead th {\n",
       "        text-align: right;\n",
       "    }\n",
       "</style>\n",
       "<table border=\"1\" class=\"dataframe\">\n",
       "  <thead>\n",
       "    <tr style=\"text-align: right;\">\n",
       "      <th></th>\n",
       "      <th>train_size</th>\n",
       "      <th>test_size</th>\n",
       "      <th>auc</th>\n",
       "      <th>k=10,precision</th>\n",
       "      <th>k=10,recall</th>\n",
       "    </tr>\n",
       "  </thead>\n",
       "  <tbody>\n",
       "    <tr>\n",
       "      <th>0</th>\n",
       "      <td>0.9</td>\n",
       "      <td>0.1</td>\n",
       "      <td>0.965937</td>\n",
       "      <td>0.089215</td>\n",
       "      <td>0.193119</td>\n",
       "    </tr>\n",
       "    <tr>\n",
       "      <th>1</th>\n",
       "      <td>0.7</td>\n",
       "      <td>0.3</td>\n",
       "      <td>0.965969</td>\n",
       "      <td>0.197746</td>\n",
       "      <td>0.192095</td>\n",
       "    </tr>\n",
       "    <tr>\n",
       "      <th>2</th>\n",
       "      <td>0.4</td>\n",
       "      <td>0.6</td>\n",
       "      <td>0.964253</td>\n",
       "      <td>0.311610</td>\n",
       "      <td>0.180900</td>\n",
       "    </tr>\n",
       "    <tr>\n",
       "      <th>3</th>\n",
       "      <td>0.1</td>\n",
       "      <td>0.9</td>\n",
       "      <td>0.959196</td>\n",
       "      <td>0.397484</td>\n",
       "      <td>0.172025</td>\n",
       "    </tr>\n",
       "  </tbody>\n",
       "</table>\n",
       "</div>"
      ],
      "text/plain": [
       "   train_size  test_size       auc  k=10,precision  k=10,recall\n",
       "0         0.9        0.1  0.965937        0.089215     0.193119\n",
       "1         0.7        0.3  0.965969        0.197746     0.192095\n",
       "2         0.4        0.6  0.964253        0.311610     0.180900\n",
       "3         0.1        0.9  0.959196        0.397484     0.172025"
      ]
     },
     "execution_count": 13,
     "metadata": {},
     "output_type": "execute_result"
    }
   ],
   "source": [
    "plt.figure(figsize=(10,5))\n",
    "plt.plot(test_size,auc_ls,label='auc')\n",
    "plt.plot(test_size,pre_ls,label='k=10,precision')\n",
    "plt.plot(test_size,rec_ls,label='k=10,recall')\n",
    "plt.legend(loc='upper right', shadow=True, ncol=1)\n",
    "plt.show()\n",
    "accuracy_sample_size=pd.DataFrame({'train_size':[0.1,0.3,0.6,0.9],'auc':auc_ls,'k=10,precision':pre_ls,'k=10,recall':rec_ls})\n",
    "accuracy_sample_size="
   ]
  },
  {
   "cell_type": "markdown",
   "metadata": {},
   "source": [
    "As we can see from this plot, the auc and recall is slightly decreasing as our training size decreases, but the precision is increasing as our training size decreases. It might seem weird that the more training data we have, the less precision we get. Actually, it is because when we have so many training data, we have so little testing data. Therefore, our prediction cannot be validated due to the lack of testing data, which leads to a decrease in precision. So if we take this fact in to consideration, we will see that for all training size, the accuracy is stable, and the larger data we have, the slightly more accuracy we will get. This evidence shows that our model is quite stable, and a relative small amount of data would be sufficient for the model to predict. Therefore, we choose testing size=0.33 for our model. \n",
    "\n",
    "Next, we are going to tune the learning rate of our model. We should use a CV method to get the best parameter, but due to the large size of our data, we will just present a accuracy result without CV."
   ]
  },
  {
   "cell_type": "code",
   "execution_count": 37,
   "metadata": {
    "ExecuteTime": {
     "end_time": "2018-12-22T00:39:46.770507Z",
     "start_time": "2018-12-22T00:23:40.256268Z"
    }
   },
   "outputs": [],
   "source": [
    "learn_ls=[0.01,0.1,0.3,0.5]\n",
    "auc_ls=[]\n",
    "pre_ls=[]\n",
    "rec_ls=[]\n",
    "for rate in learn_ls:\n",
    "    auc,pre_k,rec_k=fm_model(0.33,10,4,'no',learning_r=rate)\n",
    "    auc_ls+=[auc]\n",
    "    pre_ls+=[pre_k]\n",
    "    rec_ls+=[rec_k]\n"
   ]
  },
  {
   "cell_type": "code",
   "execution_count": 38,
   "metadata": {
    "ExecuteTime": {
     "end_time": "2018-12-22T00:45:21.866401Z",
     "start_time": "2018-12-22T00:45:21.681861Z"
    }
   },
   "outputs": [
    {
     "data": {
      "image/png": "[encoded data removed]",
      "text/plain": [
       "<Figure size 720x360 with 1 Axes>"
      ]
     },
     "metadata": {},
     "output_type": "display_data"
    },
    {
     "data": {
      "text/html": [
       "<div>\n",
       "<style scoped>\n",
       "    .dataframe tbody tr th:only-of-type {\n",
       "        vertical-align: middle;\n",
       "    }\n",
       "\n",
       "    .dataframe tbody tr th {\n",
       "        vertical-align: top;\n",
       "    }\n",
       "\n",
       "    .dataframe thead th {\n",
       "        text-align: right;\n",
       "    }\n",
       "</style>\n",
       "<table border=\"1\" class=\"dataframe\">\n",
       "  <thead>\n",
       "    <tr style=\"text-align: right;\">\n",
       "      <th></th>\n",
       "      <th>learn_ls</th>\n",
       "      <th>auc</th>\n",
       "      <th>k=10,precision</th>\n",
       "      <th>k=10,recall</th>\n",
       "    </tr>\n",
       "  </thead>\n",
       "  <tbody>\n",
       "    <tr>\n",
       "      <th>0</th>\n",
       "      <td>0.1</td>\n",
       "      <td>0.962114</td>\n",
       "      <td>0.200402</td>\n",
       "      <td>0.184959</td>\n",
       "    </tr>\n",
       "    <tr>\n",
       "      <th>1</th>\n",
       "      <td>0.3</td>\n",
       "      <td>0.963811</td>\n",
       "      <td>0.205525</td>\n",
       "      <td>0.187663</td>\n",
       "    </tr>\n",
       "    <tr>\n",
       "      <th>2</th>\n",
       "      <td>0.6</td>\n",
       "      <td>0.531194</td>\n",
       "      <td>0.000089</td>\n",
       "      <td>0.000026</td>\n",
       "    </tr>\n",
       "    <tr>\n",
       "      <th>3</th>\n",
       "      <td>0.9</td>\n",
       "      <td>0.507538</td>\n",
       "      <td>0.000133</td>\n",
       "      <td>0.000042</td>\n",
       "    </tr>\n",
       "  </tbody>\n",
       "</table>\n",
       "</div>"
      ],
      "text/plain": [
       "   learn_ls       auc  k=10,precision  k=10,recall\n",
       "0       0.1  0.962114        0.200402     0.184959\n",
       "1       0.3  0.963811        0.205525     0.187663\n",
       "2       0.6  0.531194        0.000089     0.000026\n",
       "3       0.9  0.507538        0.000133     0.000042"
      ]
     },
     "execution_count": 38,
     "metadata": {},
     "output_type": "execute_result"
    }
   ],
   "source": [
    "plt.figure(figsize=(10,5))\n",
    "plt.plot(test_size,auc_ls,label='auc')\n",
    "plt.plot(test_size,pre_ls,label='k=10,precision')\n",
    "plt.plot(test_size,rec_ls,label='k=10,recall')\n",
    "plt.legend(loc='upper right', shadow=True, ncol=1)\n",
    "plt.show()\n",
    "learning_df=pd.DataFrame({'learn_ls':[0.1,0.3,0.6,0.9],'auc':auc_ls,'k=10,precision':pre_ls,'k=10,recall':rec_ls})\n",
    "learning_df"
   ]
  },
  {
   "cell_type": "markdown",
   "metadata": {},
   "source": [
    "Based on this result, we will choose default learning rate which is 0.15 in the model."
   ]
  },
  {
   "cell_type": "markdown",
   "metadata": {},
   "source": [
    "#### With Side-info\n",
    "Next, we try to add side_info to this this model. We have two side information dataset, one is the user_review dataset and the other one is item bundle dataset.\n",
    "\n",
    "The following is a snapshot of the review dataset. We first process it into the pandas and we apply NLP on the review sentence\n",
    "\n",
    "{'user_id': '76561197970982479', 'user_url': 'http://steamcommunity.com/profiles/76561197970982479', 'reviews': [{'funny': '', 'posted': 'Posted November 5, 2011.', 'last_edited': '', 'item_id': '1250', 'helpful': 'No ratings yet', 'recommend': True, 'review': 'Simple yet with great replayability. In my opinion does \"zombie\" hordes and team work better than left 4 dead plus has a global leveling system. Alot of down to earth \"zombie\" splattering fun for the whole family. Amazed this sort of FPS is so rare.'}, {'funny': '', 'posted': 'Posted July 15, 2011.', 'last_edited': '', 'item_id': '22200', 'helpful': 'No ratings yet', 'recommend': True, 'review': \"It's unique and worth a playthrough.\"}, {'funny': '', 'posted': 'Posted April 21, 2011.', 'last_edited': '', 'item_id': '43110', 'helpful': 'No ratings yet', 'recommend': True, 'review': 'Great atmosphere. The gunplay can be a bit chunky at times but at the end of the day this game is definitely worth it and I hope they do a sequel...so buy the game so I get a sequel!'}]}\n",
    "\n",
    "First, we split sentence into words, remove punctuation, remove other languages and special characters, filter out stop words,  and lemmatizer each word. With this processed review, we want to produce a sentiment for each review and aggregate it for each game. In order to get the sentiment for each review, we used a dictionary for positive and negative words from this website <https://www.cs.uic.edu/~liub/FBS/sentiment-analysis.html#lexicon>. For each review, we get a count of negative words or positive words according to the dictionary. This dataset also has a variable \"is_recommended\" which tells us if the user recommend this game or not after his/her review. Therefore, the sentiment is defined as follows:\n",
    "\n",
    "if user is_recommended, then it equals the sum of all positive words in the review\n",
    "\n",
    "if user is not recommended, then it equals the sum of all negative words in the review (with a negative sign)\n",
    "\n",
    "So, for each game, we have an aggregated sentiment which shows how popular the game is among these users. This data can be used as item-features in our model.\n",
    "\n"
   ]
  },
  {
   "cell_type": "code",
   "execution_count": 28,
   "metadata": {
    "ExecuteTime": {
     "end_time": "2018-12-22T00:18:59.734215Z",
     "start_time": "2018-12-22T00:18:59.580634Z"
    }
   },
   "outputs": [
    {
     "name": "stdout",
     "output_type": "stream",
     "text": [
      "This is the review with sentiment calculated\n"
     ]
    },
    {
     "data": {
      "text/html": [
       "<div>\n",
       "<style scoped>\n",
       "    .dataframe tbody tr th:only-of-type {\n",
       "        vertical-align: middle;\n",
       "    }\n",
       "\n",
       "    .dataframe tbody tr th {\n",
       "        vertical-align: top;\n",
       "    }\n",
       "\n",
       "    .dataframe thead th {\n",
       "        text-align: right;\n",
       "    }\n",
       "</style>\n",
       "<table border=\"1\" class=\"dataframe\">\n",
       "  <thead>\n",
       "    <tr style=\"text-align: right;\">\n",
       "      <th></th>\n",
       "      <th>user_id</th>\n",
       "      <th>item_id</th>\n",
       "      <th>isRecommend</th>\n",
       "      <th>reviews</th>\n",
       "      <th>sentiment</th>\n",
       "    </tr>\n",
       "  </thead>\n",
       "  <tbody>\n",
       "    <tr>\n",
       "      <th>0</th>\n",
       "      <td>76561197970982479</td>\n",
       "      <td>1250</td>\n",
       "      <td>True</td>\n",
       "      <td>simple yet great replayability  opinion  zombi...</td>\n",
       "      <td>6</td>\n",
       "    </tr>\n",
       "    <tr>\n",
       "      <th>1</th>\n",
       "      <td>76561197970982479</td>\n",
       "      <td>22200</td>\n",
       "      <td>True</td>\n",
       "      <td>unique worth playthrough</td>\n",
       "      <td>2</td>\n",
       "    </tr>\n",
       "    <tr>\n",
       "      <th>2</th>\n",
       "      <td>76561197970982479</td>\n",
       "      <td>43110</td>\n",
       "      <td>True</td>\n",
       "      <td>great atmosphere  gunplay bit chunky time end ...</td>\n",
       "      <td>3</td>\n",
       "    </tr>\n",
       "    <tr>\n",
       "      <th>3</th>\n",
       "      <td>js41637</td>\n",
       "      <td>251610</td>\n",
       "      <td>True</td>\n",
       "      <td>know think see title  barbie dreamhouse party ...</td>\n",
       "      <td>3</td>\n",
       "    </tr>\n",
       "    <tr>\n",
       "      <th>4</th>\n",
       "      <td>js41637</td>\n",
       "      <td>227300</td>\n",
       "      <td>True</td>\n",
       "      <td>simple  actually simple   truck driving simula...</td>\n",
       "      <td>6</td>\n",
       "    </tr>\n",
       "  </tbody>\n",
       "</table>\n",
       "</div>"
      ],
      "text/plain": [
       "             user_id item_id  isRecommend  \\\n",
       "0  76561197970982479    1250         True   \n",
       "1  76561197970982479   22200         True   \n",
       "2  76561197970982479   43110         True   \n",
       "3            js41637  251610         True   \n",
       "4            js41637  227300         True   \n",
       "\n",
       "                                             reviews  sentiment  \n",
       "0  simple yet great replayability  opinion  zombi...          6  \n",
       "1                          unique worth playthrough           2  \n",
       "2  great atmosphere  gunplay bit chunky time end ...          3  \n",
       "3  know think see title  barbie dreamhouse party ...          3  \n",
       "4  simple  actually simple   truck driving simula...          6  "
      ]
     },
     "execution_count": 28,
     "metadata": {},
     "output_type": "execute_result"
    }
   ],
   "source": [
    "df=pd.read_pickle('review_lemma.pkl')\n",
    "df.drop(['Recommend_reviews'],axis=1,inplace=True)\n",
    "print('This is the review with sentiment calculated')\n",
    "df.head()\n"
   ]
  },
  {
   "cell_type": "code",
   "execution_count": 29,
   "metadata": {
    "ExecuteTime": {
     "end_time": "2018-12-22T00:19:08.830857Z",
     "start_time": "2018-12-22T00:19:08.807952Z"
    }
   },
   "outputs": [
    {
     "name": "stdout",
     "output_type": "stream",
     "text": [
      "this is aggregated sentiment for each game\n"
     ]
    },
    {
     "data": {
      "text/html": [
       "<div>\n",
       "<style scoped>\n",
       "    .dataframe tbody tr th:only-of-type {\n",
       "        vertical-align: middle;\n",
       "    }\n",
       "\n",
       "    .dataframe tbody tr th {\n",
       "        vertical-align: top;\n",
       "    }\n",
       "\n",
       "    .dataframe thead th {\n",
       "        text-align: right;\n",
       "    }\n",
       "</style>\n",
       "<table border=\"1\" class=\"dataframe\">\n",
       "  <thead>\n",
       "    <tr style=\"text-align: right;\">\n",
       "      <th></th>\n",
       "      <th>sentiment</th>\n",
       "    </tr>\n",
       "    <tr>\n",
       "      <th>item_id</th>\n",
       "      <th></th>\n",
       "    </tr>\n",
       "  </thead>\n",
       "  <tbody>\n",
       "    <tr>\n",
       "      <th>10</th>\n",
       "      <td>2.754386</td>\n",
       "    </tr>\n",
       "    <tr>\n",
       "      <th>10090</th>\n",
       "      <td>3.038462</td>\n",
       "    </tr>\n",
       "    <tr>\n",
       "      <th>10130</th>\n",
       "      <td>4.000000</td>\n",
       "    </tr>\n",
       "    <tr>\n",
       "      <th>10140</th>\n",
       "      <td>4.000000</td>\n",
       "    </tr>\n",
       "    <tr>\n",
       "      <th>10150</th>\n",
       "      <td>2.777778</td>\n",
       "    </tr>\n",
       "  </tbody>\n",
       "</table>\n",
       "</div>"
      ],
      "text/plain": [
       "         sentiment\n",
       "item_id           \n",
       "10        2.754386\n",
       "10090     3.038462\n",
       "10130     4.000000\n",
       "10140     4.000000\n",
       "10150     2.777778"
      ]
     },
     "execution_count": 29,
     "metadata": {},
     "output_type": "execute_result"
    }
   ],
   "source": [
    "df.item_id=df.item_id.astype(str)\n",
    "print('this is aggregated sentiment for each game')\n",
    "pd.DataFrame(df.groupby('item_id')['sentiment'].mean()).head()"
   ]
  },
  {
   "cell_type": "markdown",
   "metadata": {},
   "source": [
    "The item_bundle dataset provides us some useful information such as game genre, game discount price, and we can also add them to our game features. The item_bundle dataset looks like this:"
   ]
  },
  {
   "cell_type": "code",
   "execution_count": 35,
   "metadata": {
    "ExecuteTime": {
     "end_time": "2018-12-22T00:22:15.247525Z",
     "start_time": "2018-12-22T00:22:15.221591Z"
    }
   },
   "outputs": [],
   "source": [
    "df=pd.read_csv('bundle.csv')"
   ]
  },
  {
   "cell_type": "code",
   "execution_count": 36,
   "metadata": {
    "ExecuteTime": {
     "end_time": "2018-12-22T00:22:24.611658Z",
     "start_time": "2018-12-22T00:22:24.587725Z"
    }
   },
   "outputs": [
    {
     "data": {
      "text/html": [
       "<div>\n",
       "<style scoped>\n",
       "    .dataframe tbody tr th:only-of-type {\n",
       "        vertical-align: middle;\n",
       "    }\n",
       "\n",
       "    .dataframe tbody tr th {\n",
       "        vertical-align: top;\n",
       "    }\n",
       "\n",
       "    .dataframe thead th {\n",
       "        text-align: right;\n",
       "    }\n",
       "</style>\n",
       "<table border=\"1\" class=\"dataframe\">\n",
       "  <thead>\n",
       "    <tr style=\"text-align: right;\">\n",
       "      <th></th>\n",
       "      <th>Unnamed: 0</th>\n",
       "      <th>item_id</th>\n",
       "      <th>genre</th>\n",
       "      <th>item_price</th>\n",
       "      <th>item_discount</th>\n",
       "      <th>RPG</th>\n",
       "      <th>Sports</th>\n",
       "      <th>Simulation</th>\n",
       "      <th>Adventure</th>\n",
       "      <th>Education</th>\n",
       "      <th>...</th>\n",
       "      <th>Action</th>\n",
       "      <th>FreetoPlay</th>\n",
       "      <th>Design&amp;Illustration</th>\n",
       "      <th>Strategy</th>\n",
       "      <th>AudioProduction</th>\n",
       "      <th>VideoProduction</th>\n",
       "      <th>Indie</th>\n",
       "      <th>WebPublishing</th>\n",
       "      <th>MassivelyMultiplayer</th>\n",
       "      <th>Animation&amp;Modeling</th>\n",
       "    </tr>\n",
       "  </thead>\n",
       "  <tbody>\n",
       "    <tr>\n",
       "      <th>0</th>\n",
       "      <td>0</td>\n",
       "      <td>326950.0</td>\n",
       "      <td>Adventure, Indie, RPG</td>\n",
       "      <td>8.99</td>\n",
       "      <td>10.0</td>\n",
       "      <td>1</td>\n",
       "      <td>0</td>\n",
       "      <td>0</td>\n",
       "      <td>1</td>\n",
       "      <td>0</td>\n",
       "      <td>...</td>\n",
       "      <td>0</td>\n",
       "      <td>0</td>\n",
       "      <td>0</td>\n",
       "      <td>0</td>\n",
       "      <td>0</td>\n",
       "      <td>0</td>\n",
       "      <td>1</td>\n",
       "      <td>0</td>\n",
       "      <td>0</td>\n",
       "      <td>0</td>\n",
       "    </tr>\n",
       "    <tr>\n",
       "      <th>1</th>\n",
       "      <td>1</td>\n",
       "      <td>331490.0</td>\n",
       "      <td>Adventure, Indie, RPG</td>\n",
       "      <td>2.99</td>\n",
       "      <td>10.0</td>\n",
       "      <td>1</td>\n",
       "      <td>0</td>\n",
       "      <td>0</td>\n",
       "      <td>1</td>\n",
       "      <td>0</td>\n",
       "      <td>...</td>\n",
       "      <td>0</td>\n",
       "      <td>0</td>\n",
       "      <td>0</td>\n",
       "      <td>0</td>\n",
       "      <td>0</td>\n",
       "      <td>0</td>\n",
       "      <td>1</td>\n",
       "      <td>0</td>\n",
       "      <td>0</td>\n",
       "      <td>0</td>\n",
       "    </tr>\n",
       "    <tr>\n",
       "      <th>2</th>\n",
       "      <td>2</td>\n",
       "      <td>331491.0</td>\n",
       "      <td>Adventure, Indie, RPG</td>\n",
       "      <td>1.99</td>\n",
       "      <td>10.0</td>\n",
       "      <td>1</td>\n",
       "      <td>0</td>\n",
       "      <td>0</td>\n",
       "      <td>1</td>\n",
       "      <td>0</td>\n",
       "      <td>...</td>\n",
       "      <td>0</td>\n",
       "      <td>0</td>\n",
       "      <td>0</td>\n",
       "      <td>0</td>\n",
       "      <td>0</td>\n",
       "      <td>0</td>\n",
       "      <td>1</td>\n",
       "      <td>0</td>\n",
       "      <td>0</td>\n",
       "      <td>0</td>\n",
       "    </tr>\n",
       "    <tr>\n",
       "      <th>3</th>\n",
       "      <td>3</td>\n",
       "      <td>331492.0</td>\n",
       "      <td>Adventure, Indie, RPG</td>\n",
       "      <td>0.99</td>\n",
       "      <td>10.0</td>\n",
       "      <td>1</td>\n",
       "      <td>0</td>\n",
       "      <td>0</td>\n",
       "      <td>1</td>\n",
       "      <td>0</td>\n",
       "      <td>...</td>\n",
       "      <td>0</td>\n",
       "      <td>0</td>\n",
       "      <td>0</td>\n",
       "      <td>0</td>\n",
       "      <td>0</td>\n",
       "      <td>0</td>\n",
       "      <td>1</td>\n",
       "      <td>0</td>\n",
       "      <td>0</td>\n",
       "      <td>0</td>\n",
       "    </tr>\n",
       "    <tr>\n",
       "      <th>4</th>\n",
       "      <td>4</td>\n",
       "      <td>348540.0</td>\n",
       "      <td>Adventure, Casual, Indie</td>\n",
       "      <td>12.99</td>\n",
       "      <td>10.0</td>\n",
       "      <td>0</td>\n",
       "      <td>0</td>\n",
       "      <td>0</td>\n",
       "      <td>1</td>\n",
       "      <td>0</td>\n",
       "      <td>...</td>\n",
       "      <td>0</td>\n",
       "      <td>0</td>\n",
       "      <td>0</td>\n",
       "      <td>0</td>\n",
       "      <td>0</td>\n",
       "      <td>0</td>\n",
       "      <td>1</td>\n",
       "      <td>0</td>\n",
       "      <td>0</td>\n",
       "      <td>0</td>\n",
       "    </tr>\n",
       "  </tbody>\n",
       "</table>\n",
       "<p>5 rows × 26 columns</p>\n",
       "</div>"
      ],
      "text/plain": [
       "   Unnamed: 0   item_id                     genre  item_price  item_discount  \\\n",
       "0           0  326950.0     Adventure, Indie, RPG        8.99           10.0   \n",
       "1           1  331490.0     Adventure, Indie, RPG        2.99           10.0   \n",
       "2           2  331491.0     Adventure, Indie, RPG        1.99           10.0   \n",
       "3           3  331492.0     Adventure, Indie, RPG        0.99           10.0   \n",
       "4           4  348540.0  Adventure, Casual, Indie       12.99           10.0   \n",
       "\n",
       "   RPG  Sports  Simulation  Adventure  Education         ...          Action  \\\n",
       "0    1       0           0          1          0         ...               0   \n",
       "1    1       0           0          1          0         ...               0   \n",
       "2    1       0           0          1          0         ...               0   \n",
       "3    1       0           0          1          0         ...               0   \n",
       "4    0       0           0          1          0         ...               0   \n",
       "\n",
       "   FreetoPlay  Design&Illustration  Strategy  AudioProduction  \\\n",
       "0           0                    0         0                0   \n",
       "1           0                    0         0                0   \n",
       "2           0                    0         0                0   \n",
       "3           0                    0         0                0   \n",
       "4           0                    0         0                0   \n",
       "\n",
       "   VideoProduction  Indie  WebPublishing  MassivelyMultiplayer  \\\n",
       "0                0      1              0                     0   \n",
       "1                0      1              0                     0   \n",
       "2                0      1              0                     0   \n",
       "3                0      1              0                     0   \n",
       "4                0      1              0                     0   \n",
       "\n",
       "   Animation&Modeling  \n",
       "0                   0  \n",
       "1                   0  \n",
       "2                   0  \n",
       "3                   0  \n",
       "4                   0  \n",
       "\n",
       "[5 rows x 26 columns]"
      ]
     },
     "execution_count": 36,
     "metadata": {},
     "output_type": "execute_result"
    }
   ],
   "source": [
    "df.head()"
   ]
  },
  {
   "cell_type": "markdown",
   "metadata": {},
   "source": [
    "Next, I am merging this two dataset and convert it to the item feature matrix."
   ]
  },
  {
   "cell_type": "code",
   "execution_count": 6,
   "metadata": {
    "ExecuteTime": {
     "end_time": "2018-12-22T03:03:38.487931Z",
     "start_time": "2018-12-22T03:03:38.424097Z"
    }
   },
   "outputs": [],
   "source": [
    "# Load the feature dataset\n",
    "item_feature_df=pd.read_csv('item_feature.csv',index_col=[0])\n",
    "full_id=pd.DataFrame([x for x in range(10978)],columns=['id'])\n",
    "item_feature_full_df=pd.merge(item_feature_df,full_id,left_on=['new_id'],right_on=['id'],how='right')\n",
    "item_feature_full_df.fillna(0,inplace=True)\n"
   ]
  },
  {
   "cell_type": "code",
   "execution_count": 9,
   "metadata": {
    "ExecuteTime": {
     "end_time": "2018-12-22T03:07:53.753966Z",
     "start_time": "2018-12-22T03:03:52.223477Z"
    }
   },
   "outputs": [],
   "source": [
    "feature_index=['sentiment',  'item_price', 'item_discount', 'Casual',\n",
    "       'Strategy', 'Action', 'MassivelyMultiplayer', 'RPG', 'EarlyAccess',\n",
    "       'Animation&Modeling', 'Indie', 'Sports', 'Adventure', 'VideoProduction',\n",
    "       'SoftwareTraining', 'PhotoEditing', 'Simulation', 'AudioProduction',\n",
    "       'Design&Illustration', 'Utilities', 'FreetoPlay', 'Racing',\n",
    "       'WebPublishing', 'Education']\n",
    "accuracyall=fm_model(0.33,10,4,feature_index)"
   ]
  },
  {
   "cell_type": "code",
   "execution_count": 10,
   "metadata": {
    "ExecuteTime": {
     "end_time": "2018-12-22T03:09:51.648635Z",
     "start_time": "2018-12-22T03:09:51.644680Z"
    }
   },
   "outputs": [
    {
     "name": "stdout",
     "output_type": "stream",
     "text": [
      "the ROC is  0.72642016\n",
      "the Precision at K=10 is  0.00606539\n",
      "the Recall at K=10 is  0.004752580190865636\n"
     ]
    }
   ],
   "source": [
    "print('the ROC is ',accuracyall[0])\n",
    "print('the Precision at K=10 is ',accuracyall[1])\n",
    "print('the Recall at K=10 is ',accuracyall[2])"
   ]
  },
  {
   "cell_type": "markdown",
   "metadata": {},
   "source": [
    "First, we put all item features into our model, we notice the result is much worse than the model with no-side information. We thought that maybe because we put too many features into the model, so we decide to put only two features to see if there is any improvement. This is the result of putting ['sentiment',  'item_discount'] into the model."
   ]
  },
  {
   "cell_type": "code",
   "execution_count": 11,
   "metadata": {
    "ExecuteTime": {
     "end_time": "2018-12-22T03:13:45.797675Z",
     "start_time": "2018-12-22T03:10:12.663990Z"
    }
   },
   "outputs": [],
   "source": [
    "accuracy2=fm_model(0.33,10,4,['sentiment',  'item_discount'])"
   ]
  },
  {
   "cell_type": "code",
   "execution_count": 13,
   "metadata": {
    "ExecuteTime": {
     "end_time": "2018-12-22T03:15:03.095714Z",
     "start_time": "2018-12-22T03:15:03.090727Z"
    }
   },
   "outputs": [
    {
     "name": "stdout",
     "output_type": "stream",
     "text": [
      "the ROC is  0.7179681\n",
      "the Precision at K=10 is  0.005169881\n",
      "the Recall at K=10 is  0.004179898439623442\n"
     ]
    }
   ],
   "source": [
    "print('the ROC is ',accuracy2[0])\n",
    "print('the Precision at K=10 is ',accuracy2[1])\n",
    "print('the Recall at K=10 is ',accuracy2[2])"
   ]
  },
  {
   "cell_type": "markdown",
   "metadata": {},
   "source": [
    "The result is still very bad, and we think there are two possible causes. First, our game feature does not cover most of the games in our universe. In fact, it only covers 20% of features in our universe. Therefore, there are a lot of missing data in the game features. To make the model work, lightfm requires all the features for all games, so we have to replace NA by 0's. But by doing this, we are adding new information to our feature dataset, which confuses our model. For example, if two games have every entry to be 0 (NA), the model would mistakenly think this two games are very close to each other because they have the same features. But in fact, they are all NA's. So, for our current dataset, we think due to the insufficiency of our feature data, adding side information will not improve the model at all."
   ]
  },
  {
   "cell_type": "markdown",
   "metadata": {},
   "source": [
    "#### RMSE and Coverage"
   ]
  },
  {
   "cell_type": "markdown",
   "metadata": {},
   "source": [
    "In order to compare with other models, we calculated the RMSE of our model without sideinfo, since that model works the best."
   ]
  },
  {
   "cell_type": "code",
   "execution_count": 14,
   "metadata": {
    "ExecuteTime": {
     "end_time": "2018-12-22T03:15:17.101350Z",
     "start_time": "2018-12-22T03:15:09.022375Z"
    }
   },
   "outputs": [
    {
     "data": {
      "text/plain": [
       "<lightfm.lightfm.LightFM at 0x23501bf84a8>"
      ]
     },
     "execution_count": 14,
     "metadata": {},
     "output_type": "execute_result"
    }
   ],
   "source": [
    "t_size=0.33\n",
    "random_s=1\n",
    "learning_r=0.1\n",
    "threads=4\n",
    "X_train, X_test, y_train, y_test = train_test_split(ui_data[['user_id','item_index','playtime_forever']], ui_data['Y'], test_size=t_size, random_state=random_s)\n",
    "ui_train=X_train.sort_values('user_id')\n",
    "ui_test=X_test.sort_values('user_id')\n",
    "train_mtx_r=ui_train['user_id'].values\n",
    "train_mtx_c=ui_train['item_index'].values\n",
    "train_mtx_v=ui_train['playtime_forever'].values\n",
    "train_r=ui_train['user_id'].max()\n",
    "train_c=ui_train['item_index'].max()\n",
    "test_mtx_r=ui_test['user_id'].values\n",
    "test_mtx_c=ui_test['item_index'].values\n",
    "test_mtx_v=ui_test['playtime_forever'].values\n",
    "test_r=ui_test['user_id'].max()\n",
    "test_c=ui_test['item_index'].max()\n",
    "test_w_mtx=coo_matrix((test_mtx_v,(test_mtx_r,test_mtx_c)),shape=(row_num+1, col_num+1))\n",
    "full_w_mtx = coo_matrix((mtx_value, (mtx_row, mtx_column)), shape=(row_num+1, col_num+1))\n",
    "train_w_mtx = coo_matrix((train_mtx_v, (train_mtx_r, train_mtx_c)), shape=(row_num+1, col_num+1))\n",
    "test_i_mtx=coo_matrix((np.ones(len(test_mtx_v)),(test_mtx_r,test_mtx_c)),shape=(row_num+1, col_num+1))\n",
    "full_i_mtx = coo_matrix((np.ones(len(mtx_value)), (mtx_row, mtx_column)), shape=(row_num+1, col_num+1))\n",
    "train_i_mtx = coo_matrix((np.ones(len(train_mtx_v)), (train_mtx_r, train_mtx_c)), shape=(row_num+1, col_num+1))\n",
    "model = LightFM(loss='warp',learning_rate=learning_r)\n",
    "model.fit(interactions=train_i_mtx,sample_weight=train_w_mtx, epochs=1, num_threads=threads)\n"
   ]
  },
  {
   "cell_type": "code",
   "execution_count": 32,
   "metadata": {
    "ExecuteTime": {
     "end_time": "2018-12-22T03:39:10.541059Z",
     "start_time": "2018-12-22T03:39:10.536072Z"
    }
   },
   "outputs": [
    {
     "name": "stdout",
     "output_type": "stream",
     "text": [
      "rmse is 3.323\n",
      "coverage at least 10 is 0.15\n"
     ]
    }
   ],
   "source": [
    "total_items=np.arange(col_num+1)\n",
    "total_users=np.arange(row_num+1)\n",
    "test_mtx=test_w_mtx.toarray()\n",
    "mse=0\n",
    "count=0\n",
    "coverage_ls=[]\n",
    "for user in total_users:\n",
    "    if count%10000==0:\n",
    "        print('.')\n",
    "    count+=1\n",
    "    test_pred=test_mtx[user]\n",
    "    pred=model.predict(user,total_items)\n",
    "    coverage=[1 for i in total_items if (test_pred[i]!=0 and pred[i]>0)]\n",
    "    coverage_ls+=[sum(coverage)]\n",
    "    mse+=np.mean([ (test_pred[i]-max(0,pred[i]))**2 for i in total_items if test_pred[i]!=0])\n",
    "rmse=np.sqrt(mse/(1+total_users[-1]))\n",
    "mean_coverage=sum([1 for x in coverage_ls if x>10])/len(coverage_ls)\n",
    "\n",
    "print('rmse is',rmse)\n",
    "print('coverage at least 10 is',mean_coverage )"
   ]
  },
  {
   "cell_type": "markdown",
   "metadata": {
    "ExecuteTime": {
     "end_time": "2018-12-22T03:34:24.974254Z",
     "start_time": "2018-12-22T03:34:24.965277Z"
    }
   },
   "source": [
    "Here is the rmse and coverage for at least 10 recommended well. These data can be used to compare with other models."
   ]
  },
  {
   "cell_type": "markdown",
   "metadata": {},
   "source": [
    "### Approximate Nearest Neighbors Approach\n",
    "  \n",
    "Most Collaborative Filtering Method suffer from slow training and huge complexity.  \n",
    "Hence, Spark MLlib provides a MinHash Local Sensitive Hashing method to transfrom feature, in this way, we can easily scale things up.  \n",
    "\n",
    "Due to time limitation and some unknown error, I can only run my scripts in Pycharm and failed to use pyspark Context  in Jupyter notebook. Please refer to **sparkLSH.py** in the same repo."
   ]
  },
  {
   "cell_type": "markdown",
   "metadata": {},
   "source": [
    "#### Data\n",
    "\n",
    "The data csv we use is almost the same as the one we use in the **Factorization Machine** part.  \n",
    "However, due to large size of dataset on a single machine, please run the **preproessing.py** in the same repo for data cleaning and csv file generation. There is a slightly different with respect to data sampling between these two method."
   ]
  },
  {
   "cell_type": "markdown",
   "metadata": {},
   "source": [
    "#### Benchmark Method by Surprise \n",
    "  \n",
    "We use the scikit-surprise package for the benchmark Method.  \n",
    "We also implement to ALS model using Spark. Please refer to **sparkALS.py** in the same repo."
   ]
  },
  {
   "cell_type": "code",
   "execution_count": 1,
   "metadata": {},
   "outputs": [],
   "source": [
    "import time \n",
    "import pandas as pd\n",
    "import numpy as np\n",
    "import matplotlib.pyplot as plt\n",
    "import seaborn as sns\n",
    "import surprise\n",
    "from surprise.prediction_algorithms.knns import KNNBaseline,KNNBasic\n",
    "from surprise.prediction_algorithms.matrix_factorization import SVD\n",
    "from surprise.model_selection import cross_validate\n",
    "from surprise.model_selection.search import GridSearchCV\n",
    "from surprise import Dataset\n",
    "from surprise import Reader\n",
    "from sklearn.model_selection import KFold\n",
    "import time as tm\n",
    "import scipy.stats as spst\n",
    "import scipy.sparse as spsp\n",
    "import itertools\n",
    "from surprise import accuracy\n",
    "from surprise.model_selection import train_test_split\n",
    "%matplotlib inline\n",
    "df=pd.read_csv('../users_items_100.csv')\n",
    "df['playtime_forever'] = round(np.log(df['playtime_forever']+1),2)"
   ]
  },
  {
   "cell_type": "code",
   "execution_count": 2,
   "metadata": {},
   "outputs": [
    {
     "data": {
      "text/plain": [
       "<matplotlib.axes._subplots.AxesSubplot at 0x10aab6860>"
      ]
     },
     "execution_count": 2,
     "metadata": {},
     "output_type": "execute_result"
    },
    {
     "data": {
      "image/png": "[encoded data removed]",
      "text/plain": [
       "<matplotlib.figure.Figure at 0x10aab6390>"
      ]
     },
     "metadata": {},
     "output_type": "display_data"
    }
   ],
   "source": [
    "sns.distplot(df['playtime_forever'])"
   ]
  },
  {
   "cell_type": "code",
   "execution_count": 3,
   "metadata": {},
   "outputs": [],
   "source": [
    "reader = Reader(sep=',', skip_lines=1, rating_scale=(0, 10))"
   ]
  },
  {
   "cell_type": "code",
   "execution_count": 4,
   "metadata": {},
   "outputs": [],
   "source": [
    "data=Dataset.load_from_df(df,reader=reader)"
   ]
  },
  {
   "cell_type": "code",
   "execution_count": 5,
   "metadata": {},
   "outputs": [
    {
     "name": "stdout",
     "output_type": "stream",
     "text": [
      "Time: 42 sec\n",
      "RMSE: 1.4122\n"
     ]
    },
    {
     "data": {
      "text/plain": [
       "1.4122417115482997"
      ]
     },
     "execution_count": 5,
     "metadata": {},
     "output_type": "execute_result"
    }
   ],
   "source": [
    "trainset, testset = train_test_split(data,test_size = 0.9999)\n",
    "start = time.time()\n",
    "algo1 = SVD()\n",
    "algo1.fit(trainset)\n",
    "predictions = algo1.test(testset)\n",
    "end = time.time()\n",
    "time_taken = str(int(end - start)) + \" sec\"\n",
    "print('Time: {}'.format(time_taken))\n",
    "accuracy.rmse(predictions)"
   ]
  },
  {
   "cell_type": "code",
   "execution_count": 6,
   "metadata": {},
   "outputs": [
    {
     "name": "stdout",
     "output_type": "stream",
     "text": [
      "Computing the msd similarity matrix...\n",
      "Done computing similarity matrix.\n",
      "Time: 40 sec\n",
      "RMSE: 1.4658\n"
     ]
    },
    {
     "data": {
      "text/plain": [
       "1.465845945779531"
      ]
     },
     "execution_count": 6,
     "metadata": {},
     "output_type": "execute_result"
    }
   ],
   "source": [
    "start = time.time()\n",
    "algo2 = KNNBasic(k=20)\n",
    "algo2.fit(trainset)\n",
    "predictions = algo2.test(testset)\n",
    "end = time.time()\n",
    "time_taken = str(int(end - start)) + \" sec\"\n",
    "print('Time: {}'.format(time_taken))\n",
    "accuracy.rmse(predictions)"
   ]
  },
  {
   "cell_type": "markdown",
   "metadata": {},
   "source": [
    "For the ANN algorithm\n",
    "Please refer to the **sparkLSH.py** as implementation.\n",
    "Here is its running time and RMSE.\n",
    "![LSHresult](img/LSHresults.png)   \n",
    "  \n"
   ]
  },
  {
   "cell_type": "markdown",
   "metadata": {},
   "source": [
    "#### conclusion in LSH"
   ]
  },
  {
   "cell_type": "markdown",
   "metadata": {},
   "source": [
    "We conclude the following results:  \n",
    "  \n",
    "  \n",
    "|   | RMSE | Runningtime ( sec ) |\n",
    "| :------:| :------: | :------: |\n",
    "| SVD | 1.4289 | 43 |\n",
    "| KNN | 1.4673 | 50 |\n",
    "| ANN with LSH | 1.4446 | 1692 |"
   ]
  },
  {
   "cell_type": "markdown",
   "metadata": {},
   "source": [
    "Althrough the above running time of ANN with MinHashLSH is pretty slow, this is because the pyspark MinHashmodel is still under development. The actual MinHash transform is very quick can easily return the K Nearest Neighbors (in this case, return Top Nearest Items given a specific item ).   \n",
    "\n",
    "![LSHANN](img/LSHANN.png)  \n",
    "  \n",
    "The slow part comes from the evaluation step since I have to implement the regression method to get the ratings( in our case, the playtime ).  "
   ]
  },
  {
   "cell_type": "markdown",
   "metadata": {},
   "source": [
    "####  Peak of what we recommend\n",
    "Since we only kept the refactorized user_id and item_id in the dataset, one can hardly see the true game name.  \n",
    "We developed class Game in **game.py** in the same repo, which can generate game name and game genre(if exists) for us to take a peak at what we have recommended."
   ]
  },
  {
   "cell_type": "code",
   "execution_count": 7,
   "metadata": {},
   "outputs": [
    {
     "name": "stdout",
     "output_type": "stream",
     "text": [
      "Loading itemName\n",
      "5000\n",
      "Loading itemName\n",
      "10000\n",
      "Loading itemName\n",
      "15000\n",
      "Loading itemName\n",
      "20000\n",
      "Loading itemName\n",
      "25000\n",
      "Loading itemName\n",
      "30000\n",
      "Loading itemName\n",
      "35000\n",
      "Loading itemName\n",
      "40000\n",
      "Loading itemName\n",
      "45000\n",
      "Loading itemName\n",
      "50000\n",
      "Loading itemName\n",
      "55000\n",
      "Loading itemName\n",
      "60000\n",
      "Loading itemName\n",
      "65000\n",
      "Loading itemName\n",
      "70000\n",
      "Loading itemName\n",
      "75000\n",
      "Loading itemName\n",
      "80000\n",
      "Loading itemName\n",
      "85000\n",
      "Loading genre\n",
      "100\n",
      "Loading genre\n",
      "200\n",
      "Loading genre\n",
      "300\n",
      "Loading genre\n",
      "400\n",
      "Loading genre\n",
      "500\n",
      "Loading genre\n",
      "600\n"
     ]
    }
   ],
   "source": [
    "from game import Game\n",
    "game = Game()\n",
    "game.loadItemName()\n",
    "game.loadItemIndex()\n",
    "game.loadgenre()"
   ]
  },
  {
   "cell_type": "code",
   "execution_count": 8,
   "metadata": {},
   "outputs": [
    {
     "name": "stdout",
     "output_type": "stream",
     "text": [
      "7406\tSword of Asumi\tAdventure, Indie, RPG\n"
     ]
    }
   ],
   "source": [
    "item_index = 7406\n",
    "name, genre = game.getNameandGenre(item_index)\n",
    "print('\\t'.join([str(item_index),name,genre]))"
   ]
  },
  {
   "cell_type": "markdown",
   "metadata": {},
   "source": [
    "## Conclusion\n",
    "  \n",
    "In this project, we implement two models for the steam game recommender system.    \n",
    "Both two models runs well, yet compared with the method implemented in the package, we still need to improve efficiency and code style.  \n",
    "Further more, we would like to emsemble both method for testing and improving coverage, which we lack of time to evaluate.   \n",
    "### Factorization machine\n",
    "For the Factorization model, since we only have partial side infomation, if we have more complete info, side information and dense complete data would perform well in the FM algorithm.\n",
    "### ANN with MinhashLSH\n",
    "Since the number of Hash Tables we use in the model is just 5. Also, the K equals 20, we can fine tune these parameter to get better results.    \n",
    "Also, since the object we predicting is just the length of playtime, we can change the objective to get better results."
   ]
  },
  {
   "cell_type": "code",
   "execution_count": null,
   "metadata": {},
   "outputs": [],
   "source": []
  }
 ],
 "metadata": {
  "hide_input": false,
  "kernelspec": {
   "display_name": "Python 3",
   "language": "python",
   "name": "python3"
  },
  "language_info": {
   "codemirror_mode": {
    "name": "ipython",
    "version": 3
   },
   "file_extension": ".py",
   "mimetype": "text/x-python",
   "name": "python",
   "nbconvert_exporter": "python",
   "pygments_lexer": "ipython3",
   "version": "3.6.4"
  },
  "latex_envs": {
   "LaTeX_envs_menu_present": true,
   "autoclose": false,
   "autocomplete": true,
   "bibliofile": "biblio.bib",
   "cite_by": "apalike",
   "current_citInitial": 1,
   "eqLabelWithNumbers": true,
   "eqNumInitial": 1,
   "hotkeys": {
    "equation": "Ctrl-E",
    "itemize": "Ctrl-I"
   },
   "labels_anchors": false,
   "latex_user_defs": false,
   "report_style_numbering": false,
   "user_envs_cfg": false
  },
  "nbTranslate": {
   "displayLangs": [
    "*"
   ],
   "hotkey": "alt-t",
   "langInMainMenu": true,
   "sourceLang": "en",
   "targetLang": "fr",
   "useGoogleTranslate": true
  },
  "toc": {
   "base_numbering": 1,
   "nav_menu": {},
   "number_sections": true,
   "sideBar": true,
   "skip_h1_title": false,
   "title_cell": "Table of Contents",
   "title_sidebar": "Contents",
   "toc_cell": false,
   "toc_position": {},
   "toc_section_display": true,
   "toc_window_display": false
  },
  "varInspector": {
   "cols": {
    "lenName": 16,
    "lenType": 16,
    "lenVar": 40
   },
   "kernels_config": {
    "python": {
     "delete_cmd_postfix": "",
     "delete_cmd_prefix": "del ",
     "library": "var_list.py",
     "varRefreshCmd": "print(var_dic_list())"
    },
    "r": {
     "delete_cmd_postfix": ") ",
     "delete_cmd_prefix": "rm(",
     "library": "var_list.r",
     "varRefreshCmd": "cat(var_dic_list()) "
    }
   },
   "types_to_exclude": [
    "module",
    "function",
    "builtin_function_or_method",
    "instance",
    "_Feature"
   ],
   "window_display": false
  }
 },
 "nbformat": 4,
 "nbformat_minor": 2
}
