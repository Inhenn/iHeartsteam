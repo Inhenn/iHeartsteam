{
 "cells": [
  {
   "cell_type": "markdown",
   "metadata": {},
   "source": [
    "### Approximate Nearest Neighbors Approach\n",
    "  \n",
    "Most Collaborative Filtering Method suffer from slow training and huge complexity.  \n",
    "Hence, Spark MLlib provides a MinHash Local Sensitive Hashing method to transfrom feature, in this way, we can easily scale things up.  \n",
    "\n",
    "Due to time limitation and some unknown error, I can only run my scripts in Pycharm and failed to use pyspark Context  in Jupyter notebook. Please refer to **sparkLSH.py** in the same repo."
   ]
  },
  {
   "cell_type": "markdown",
   "metadata": {},
   "source": [
    "#### Data\n",
    "\n",
    "The data csv we use is almost the same as the one we use in the **Factorization Machine** part.  \n",
    "However, due to large size of dataset on a single machine, please run the **preproessing.py** in the same repo for data cleaning and csv file generation. There is a slightly different with respect to data sampling between these two method."
   ]
  },
  {
   "cell_type": "markdown",
   "metadata": {},
   "source": [
    "#### Benchmark Method by Surprise \n",
    "  \n",
    "We use the scikit-surprise package for the benchmark Method.  \n",
    "We also implement to ALS model using Spark. Please refer to **sparkALS** in the same repo."
   ]
  },
  {
   "cell_type": "code",
   "execution_count": 8,
   "metadata": {},
   "outputs": [],
   "source": [
    "import time \n",
    "import pandas as pd\n",
    "import numpy as np\n",
    "import matplotlib.pyplot as plt\n",
    "import seaborn as sns\n",
    "import surprise\n",
    "from surprise.prediction_algorithms.knns import KNNBaseline,KNNBasic\n",
    "from surprise.prediction_algorithms.matrix_factorization import SVD\n",
    "from surprise.model_selection import cross_validate\n",
    "from surprise.model_selection.search import GridSearchCV\n",
    "from surprise import Dataset\n",
    "from surprise import Reader\n",
    "from sklearn.model_selection import KFold\n",
    "import time as tm\n",
    "import scipy.stats as spst\n",
    "import scipy.sparse as spsp\n",
    "import itertools\n",
    "from surprise import accuracy\n",
    "from surprise.model_selection import train_test_split\n",
    "%matplotlib inline\n",
    "df=pd.read_csv('../users_items_100.csv')\n",
    "df['playtime_forever'] = round(np.log(df['playtime_forever']+1),2)"
   ]
  },
  {
   "cell_type": "code",
   "execution_count": 3,
   "metadata": {},
   "outputs": [
    {
     "data": {
      "text/plain": [
       "<matplotlib.axes._subplots.AxesSubplot at 0x10a935358>"
      ]
     },
     "execution_count": 3,
     "metadata": {},
     "output_type": "execute_result"
    },
    {
     "data": {
      "image/png": "[encoded data removed]",
      "text/plain": [
       "<matplotlib.figure.Figure at 0x10a8e5cf8>"
      ]
     },
     "metadata": {},
     "output_type": "display_data"
    }
   ],
   "source": [
    "sns.distplot(df['playtime_forever'])"
   ]
  },
  {
   "cell_type": "code",
   "execution_count": 4,
   "metadata": {},
   "outputs": [],
   "source": [
    "reader = Reader(sep=',', skip_lines=1, rating_scale=(0, 10))"
   ]
  },
  {
   "cell_type": "code",
   "execution_count": 5,
   "metadata": {},
   "outputs": [],
   "source": [
    "data=Dataset.load_from_df(df,reader=reader)"
   ]
  },
  {
   "cell_type": "code",
   "execution_count": 6,
   "metadata": {},
   "outputs": [
    {
     "name": "stdout",
     "output_type": "stream",
     "text": [
      "Time: 43 sec\n",
      "RMSE: 1.4289\n"
     ]
    },
    {
     "data": {
      "text/plain": [
       "1.4288544676706416"
      ]
     },
     "execution_count": 6,
     "metadata": {},
     "output_type": "execute_result"
    }
   ],
   "source": [
    "trainset, testset = train_test_split(data,test_size = 0.9999)\n",
    "start = time.time()\n",
    "algo1 = SVD()\n",
    "algo1.fit(trainset)\n",
    "predictions = algo1.test(testset)\n",
    "end = time.time()\n",
    "time_taken = str(int(end - start)) + \" sec\"\n",
    "print('Time: {}'.format(time_taken))\n",
    "accuracy.rmse(predictions)"
   ]
  },
  {
   "cell_type": "code",
   "execution_count": 9,
   "metadata": {},
   "outputs": [
    {
     "name": "stdout",
     "output_type": "stream",
     "text": [
      "Computing the msd similarity matrix...\n",
      "Done computing similarity matrix.\n",
      "Time: 50 sec\n",
      "RMSE: 1.4673\n"
     ]
    },
    {
     "data": {
      "text/plain": [
       "1.4672831148464538"
      ]
     },
     "execution_count": 9,
     "metadata": {},
     "output_type": "execute_result"
    }
   ],
   "source": [
    "start = time.time()\n",
    "algo2 = KNNBasic(k=20)\n",
    "algo2.fit(trainset)\n",
    "predictions = algo2.test(testset)\n",
    "end = time.time()\n",
    "time_taken = str(int(end - start)) + \" sec\"\n",
    "print('Time: {}'.format(time_taken))\n",
    "accuracy.rmse(predictions)"
   ]
  },
  {
   "cell_type": "markdown",
   "metadata": {},
   "source": [
    "#### ANN and Local Sensitive Hashing"
   ]
  },
  {
   "cell_type": "markdown",
   "metadata": {},
   "source": [
    "For the ANN algorithm\n",
    "Please refer to the **sparkLSH.py** as implementation.\n",
    "Here is its running time and RMSE.\n",
    "![LSHresult](img/LSHresults.png)   \n",
    "  \n"
   ]
  },
  {
   "cell_type": "markdown",
   "metadata": {},
   "source": [
    "#### Conclusion"
   ]
  },
  {
   "cell_type": "markdown",
   "metadata": {},
   "source": [
    "We conclude the following results:  \n",
    "  \n",
    "  \n",
    "|   | RMSE | Runningtime ( sec ) |\n",
    "| :------:| :------: | :------: |\n",
    "| SVD | 1.4289 | 43 |\n",
    "| KNN | 1.4673 | 50 |\n",
    "| ANN with LSH | 1.4446 | 1692 |"
   ]
  },
  {
   "cell_type": "markdown",
   "metadata": {},
   "source": [
    "Althrough the above running time of ANN with MinHashLSH is pretty slow, this is because the pyspark MinHashmodel is still under development. The actual MinHash transform is very quick can easily return the K Nearest Neighbors (in this case, return Top Nearest Items given a specific item ).     \n",
    "The slow part comes from the evaluation step since I have to implement the regression method to get the ratings( in our case, the playtime ).  "
   ]
  },
  {
   "cell_type": "markdown",
   "metadata": {},
   "source": [
    "### Conclusion\n",
    "  \n",
    "In this project, we implement two models for the above "
   ]
  }
 ],
 "metadata": {
  "kernelspec": {
   "display_name": "Python 3",
   "language": "python",
   "name": "python3"
  },
  "language_info": {
   "codemirror_mode": {
    "name": "ipython",
    "version": 3
   },
   "file_extension": ".py",
   "mimetype": "text/x-python",
   "name": "python",
   "nbconvert_exporter": "python",
   "pygments_lexer": "ipython3",
   "version": "3.6.4"
  }
 },
 "nbformat": 4,
 "nbformat_minor": 2
}
